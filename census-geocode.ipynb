{
 "cells": [
  {
   "cell_type": "code",
   "execution_count": null,
   "id": "797e3402",
   "metadata": {},
   "outputs": [],
   "source": [
    "# !pip install censusgeocode"
   ]
  },
  {
   "cell_type": "code",
   "execution_count": null,
   "id": "0a57da22",
   "metadata": {},
   "outputs": [],
   "source": [
    "import glob\n",
    "import json\n",
    "import requests\n",
    "import pandas as pd\n",
    "from pprint import pprint"
   ]
  },
  {
   "cell_type": "markdown",
   "id": "683c6a30",
   "metadata": {},
   "source": [
    "# Census Examples "
   ]
  },
  {
   "attachments": {},
   "cell_type": "markdown",
   "id": "6af256b9",
   "metadata": {},
   "source": [
    "This notebook uses the `censusgeocode` package in Python (which is simply a wrapper around the US Census' official Geocoder API) to get census geographies for list of addresses or lat/longs\n",
    "\n",
    "- https://pypi.org/project/censusgeocode/"
   ]
  },
  {
   "attachments": {},
   "cell_type": "markdown",
   "id": "02e994db",
   "metadata": {},
   "source": [
    "### Step 1 | Grab your data at the address level"
   ]
  },
  {
   "cell_type": "code",
   "execution_count": null,
   "id": "4509ff6f",
   "metadata": {},
   "outputs": [],
   "source": [
    "df = pd.read_parquet('example-data.parquet')"
   ]
  },
  {
   "attachments": {},
   "cell_type": "markdown",
   "id": "082a571d",
   "metadata": {},
   "source": [
    "### Step 2 | Geoode Lat/Long if they're not already present\n",
    "\n",
    "It already exists in this dataset. Census geocode has a function to go from addresss --> lat/long, but I haven't had time to implement it here. This dataset already has lat/longs. Message me if you're struggling with this step."
   ]
  },
  {
   "cell_type": "markdown",
   "id": "c9c09e80",
   "metadata": {},
   "source": [
    "### Step 3 | Get Census Geographies"
   ]
  },
  {
   "cell_type": "code",
   "execution_count": null,
   "id": "6d08ad37",
   "metadata": {},
   "outputs": [],
   "source": [
    "# Code adapted from:\n",
    "# https://gis.stackexchange.com/questions/363830/applying-the-censusgeocode-package-to-an-entire-dataframe-of-geocoded-data\n",
    "# Defines a geocode function that accepts lat/long and spits out geographies\n",
    "# The code then runs that funciton in parllel (for speed).\n",
    "\n",
    "import pandas as pd\n",
    "import censusgeocode as cg\n",
    "from concurrent.futures import ThreadPoolExecutor\n",
    "from tqdm.notebook import tqdm\n",
    "\n",
    "import requests_cache\n",
    "cache = requests_cache.CachedSession(\"geocode_cache\", backend=\"filesystem\")\n",
    "\n",
    "def geocode(lat, lng):\n",
    "    try:\n",
    "        url = \"https://geocoding.geo.census.gov/geocoder/geographies/coordinates\"\n",
    "        params = {\n",
    "            \"x\": lng,\n",
    "            \"y\": lat,\n",
    "            \"benchmark\": \"Public_AR_Census2020\",\n",
    "            \"vintage\": \"Census2020_Census2020\",\n",
    "            \"format\": \"json\"\n",
    "        }\n",
    "        response = cache.get(url, params=params)\n",
    "        response.raise_for_status()\n",
    "        data = response.json()\n",
    "        census = data['result']['geographies']['Census Blocks'][0]\n",
    "        return census\n",
    "    except Exception as e:\n",
    "        print(f\"Error geocoding ({lat}, {lng}): {e}\")\n",
    "        return None\n",
    "\n",
    "def bulk_geocode(latitudes, longitudes):\n",
    "    \"\"\"\n",
    "    Geocode a list of latitudes and longitudes in parallel (for speed).\n",
    "    \"\"\"\n",
    "\n",
    "    with ThreadPoolExecutor() as tpe:\n",
    "        latitudes = df['lat']\n",
    "        longitudes = df['long']\n",
    "        mapped_results = tpe.map(geocode, latitudes, longitudes)\n",
    "        data = list(tqdm(mapped_results, total=len(df)))\n",
    "\n",
    "    return pd.DataFrame(data)\n",
    "\n",
    "census_geos_df = bulk_geocode(df['lat'], df['long']) \n",
    "census_geos_df.head()\n"
   ]
  },
  {
   "cell_type": "code",
   "execution_count": null,
   "id": "41a38816",
   "metadata": {},
   "outputs": [],
   "source": [
    "to_keep = ['GEOID', 'STATE', 'COUNTY', 'TRACT', 'BLOCK']\n",
    "census_geos_df = census_geos_df[to_keep]\n",
    "census_geos_df"
   ]
  },
  {
   "cell_type": "code",
   "execution_count": null,
   "id": "f86854d0",
   "metadata": {},
   "outputs": [],
   "source": [
    "df_with_geos = pd.concat(\n",
    "    [ \n",
    "        df.reset_index(drop=True),\n",
    "        census_geos_df.reset_index(drop=True)\n",
    "    ], \n",
    "    axis=1)\n",
    "\n",
    "df_with_geos.head()"
   ]
  },
  {
   "attachments": {},
   "cell_type": "markdown",
   "id": "7baebd94",
   "metadata": {},
   "source": [
    "# Step 4 | Pick a geographical level and get Census data\n",
    "Do you want Census data at the state level? county? tract? block?\n",
    "\n",
    "1. Pick a geographical level.\n",
    "2. See `census-example.ipynb` if you want to learn how to get Census data at your desired level"
   ]
  },
  {
   "attachments": {},
   "cell_type": "markdown",
   "id": "5391c052",
   "metadata": {},
   "source": [
    "# Hope that helps!"
   ]
  }
 ],
 "metadata": {
  "kernelspec": {
   "display_name": "Python 3 (ipykernel)",
   "language": "python",
   "name": "python3"
  },
  "language_info": {
   "codemirror_mode": {
    "name": "ipython",
    "version": 3
   },
   "file_extension": ".py",
   "mimetype": "text/x-python",
   "name": "python",
   "nbconvert_exporter": "python",
   "pygments_lexer": "ipython3",
   "version": "3.11.2"
  }
 },
 "nbformat": 4,
 "nbformat_minor": 5
}
